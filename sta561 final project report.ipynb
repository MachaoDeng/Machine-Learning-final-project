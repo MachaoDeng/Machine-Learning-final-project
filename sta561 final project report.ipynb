{
 "cells": [
  {
   "cell_type": "markdown",
   "metadata": {},
   "source": [
    "# $\\hspace{1cm}$Outcome Prediction of League of Legends Diamond Ranked Games "
   ]
  },
  {
   "cell_type": "markdown",
   "metadata": {},
   "source": [
    "## $\\hspace{9cm}$Machao Deng,$\\hspace{1mm}$ Zining Ma"
   ]
  },
  {
   "cell_type": "markdown",
   "metadata": {},
   "source": [
    "## $\\hspace{10cm}$April,28th,2020"
   ]
  },
  {
   "cell_type": "markdown",
   "metadata": {},
   "source": [
    "### Abstract"
   ]
  },
  {
   "cell_type": "markdown",
   "metadata": {},
   "source": [
    "The League of Legends Diamond Ranked Games dataset contains approximate 10000 obervations and 40 variables. The dataset is avaliable on https://www.kaggle.com/bobbyscience/league-of-legends-diamond-ranked-games-10-min. In this project,we applied Guassian process, support vector machine, and neural network to predict the wining side of a game, and compare the behavior of each algorithm."
   ]
  },
  {
   "cell_type": "markdown",
   "metadata": {},
   "source": [
    "### Introduction"
   ]
  },
  {
   "cell_type": "markdown",
   "metadata": {},
   "source": [
    "League of Legends (LoL) is a multiplayer online battle arena video game developed and published by Riot Games. In League of Legends, players assume the role of a \"champion\" with unique abilities and battle against a team of other player or computer-controlled champions. The goal is usually to destroy the opposing team's \"Nexus\", a structure that lies at the heart of a base protected by defensive structures.\n",
    "\n",
    "The dataset contains the first ten minutes information of each game at \"diamond\" ranking, which is a very high competitive level in the LoL. The reason for only choosing diamond ranking games is because the players in this level are less likely to make faults, which proves the objectivity of data and decrease the negative affection brought by the players.\n",
    "\n",
    "The dataset includes nearly 10000 obervations and 40 features that record the information for the blue and red team of each game. In this project, we are going to divide the dataset into train and test set. We plan to build several machine learning models we have learned in this class based on train set and assess our models on the test set. Another purpose is to find the difference among the the different models.  "
   ]
  },
  {
   "cell_type": "markdown",
   "metadata": {},
   "source": [
    "### Variable Explanation"
   ]
  },
  {
   "cell_type": "markdown",
   "metadata": {},
   "source": [
    "The data include:\n",
    "\n",
    "$\\bullet$ Unique RIOT ID of the game.\n",
    "\n",
    "$\\bullet$ The target column. 1 if the blue team has won, 0 otherwise.\n",
    "\n",
    "$\\bullet$ Number of warding totems placed by the blue or red team on the map\n",
    "\n",
    "$\\bullet$ Number of enemy warding totems the blue or red team has destroyed\n",
    "\n",
    "$\\bullet$ First kill of the game. 1 if the blue team did the first kill, 0 otherwise\n",
    "\n",
    "$\\bullet$ Number of enemies killed by the blue or red team\n",
    "\n",
    "$\\bullet$ Number of deaths (blue or red team)\n",
    "\n",
    "$\\bullet$ Number of kill assists (blue or red team)\n",
    "\n",
    "$\\bullet$ Number of elite monsters killed by the blue or red team (Dragons and Heralds)\n",
    "\n",
    "$\\bullet$ Number of dragons killed by the blue or red team\n",
    "\n",
    "$\\bullet$ Number of heralds killed by the blue or red team\n",
    "\n",
    "$\\bullet$ Blue or red team total gold\n",
    "\n",
    "$\\bullet$ Blue or red team average champion level\n",
    "\n",
    "$\\bullet$ Blue or red team total experience\n",
    "\n",
    "$\\bullet$ Blue or red team total minions killed (CS)\n",
    "\n",
    "$\\bullet$ Blue or red team total jungle monsters killed\n",
    "\n",
    "$\\bullet$ Blue team gold difference compared to the enemy team\n",
    "\n",
    "$\\bullet$ Blue team experience difference compared to the enemy team\n",
    "\n",
    "$\\bullet$ Blue or red team CS (minions) per minute\n",
    "\n",
    "$\\bullet$ Blue or red team gold per minute"
   ]
  },
  {
   "cell_type": "markdown",
   "metadata": {},
   "source": [
    "### Methods"
   ]
  },
  {
   "cell_type": "markdown",
   "metadata": {},
   "source": [
    "1. Guassian Process\n",
    "\n",
    "The Guassian Process Classifier uses Bayes Theorem to extrapolate the posterior probability $P(C_{k}|x)$, where $C_{k}$ represents class k and $x$ is a featured vector that has a Guassian (univariate or multivariate) prior. Guassian Process is that we can place priors over parameters using a kernel and evaluate the variance of parameters. During the Guassian Process, the differnet kernel will give us different outcomes. \n",
    "\n",
    "For this dataset, we first delete some duplicated information such as \"blue team gold difference\" and \"red team gold differnece\" since they actually represent the same thing. Then, we choose the first 8000 obervations as train data and the rest of the observations as test data. We build our Guassian Process model on train data, treating the variable \"blueWins\" as the target variable and the rest of features as train variables. In the mean time, we have tried many different kernels for this problem and we find out Radial-basis function (RBF) works best. Finally, the error rate on test set is 27.9%."
   ]
  },
  {
   "cell_type": "markdown",
   "metadata": {},
   "source": [
    "2. Support Vector Machine\n",
    "\n",
    "Support vector machines (SVMs) are a set of supervised learning methods used for classification, regression and outliers detection. It is a linear classifier that, given data in $R^p$, finds the hyperplane which has the greatest margins to the data points. The hyperplane is defind as:\n",
    "\n",
    "$$\n",
    "argmin_{w,b,\\epsilon}(\\frac{1}{2}||w||^2+C\\sum_{i=1}^{n}\\epsilon_{i}), \\space y_{i}(w \\cdot x_{i}+b)\\ge 1-\\epsilon_{i},\\space \\forall i,\n",
    "$$\n",
    "\n",
    "where $\\epsilon_{i}$ is the penalty for misclassification. There also exists non-linear SVM which maps the data points into high dimensional space first, and then uses kernel function to get a dot product in that space.\n",
    "\n",
    "The setting is the same as the previous one. The linear and Rbf kernel are both well-behaved. The error rates are 28.4% and 27.5% respectively."
   ]
  }
 ],
 "metadata": {
  "kernelspec": {
   "display_name": "Python 3",
   "language": "python",
   "name": "python3"
  },
  "language_info": {
   "codemirror_mode": {
    "name": "ipython",
    "version": 3
   },
   "file_extension": ".py",
   "mimetype": "text/x-python",
   "name": "python",
   "nbconvert_exporter": "python",
   "pygments_lexer": "ipython3",
   "version": "3.7.4"
  }
 },
 "nbformat": 4,
 "nbformat_minor": 2
}
